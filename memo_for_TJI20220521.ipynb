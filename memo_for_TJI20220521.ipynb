{
 "cells": [
  {
   "cell_type": "markdown",
   "metadata": {},
   "source": [
    "# メモ用ノートブック"
   ]
  },
  {
   "cell_type": "code",
   "execution_count": 1,
   "metadata": {},
   "outputs": [],
   "source": [
    "#CurAction\n",
    "# 0:何もしない\n",
    "# 1:左の黒を取る\n",
    "# 2:右の黒を取る\n",
    "# 3:左の青を取る\n",
    "# 4:右の青を取る\n",
    "# 5:左の赤を取る\n",
    "# 6:右の青を取る\n",
    "# 7:デポジット\n",
    "# 8~12は角度調整の残骸\n",
    "# 13:左のスーパーオブジェクト\n",
    "# 14:右のスーパーオブジェクト\n",
    "# 15:左または前超近くに壁\n",
    "# 16:右超近くに壁\n",
    "# 17:左または前近くに壁\n",
    "# 18:右近くに壁\n",
    "# #"
   ]
  },
  {
   "cell_type": "code",
   "execution_count": null,
   "metadata": {},
   "outputs": [],
   "source": [
    "\"\"\"\n",
    "変数として使えない名前\n",
    "\n",
    "キーワード\n",
    "alignas    continue     friend    register         true\n",
    "alignof    decltype     goto      reinterpret_cast try\n",
    "asm        default      if        return           typedef\n",
    "auto       delete       inline    short            typeid\n",
    "bool       do           int       signed           typename\n",
    "break      double       long      sizeof           union\n",
    "case       dynamic_cast mutable   static           unsigned\n",
    "catch      else         namespace static_assert    using\n",
    "char       enum         new       static_cast      virtual\n",
    "char16_t   explicit     noexcept  struct           void\n",
    "char32_t   export       nullptr   switch           volatile\n",
    "class      extern       operator  template         wchar_t\n",
    "const      false        private   this             while\n",
    "constexpr  float        protected thread_local\n",
    "const_cast for          public    throw\n",
    "\n",
    "演算子の代替表現\n",
    "and     compl   or_eq\n",
    "and_eq  not     xor\n",
    "bitand  not_eq  xor_eq\n",
    "bitor   or  \n",
    "\n",
    "予約語\n",
    "・2文字以上の連続する_が含まれた名前\n",
    "・先頭が_で2文字目が大文字のアルファベットになっている名前\n",
    "\n",
    "\"\"\""
   ]
  }
 ],
 "metadata": {
  "interpreter": {
   "hash": "aeb39d154953f31a1845df898d330231ca8466f7620b10d05acd4509f54cbd71"
  },
  "kernelspec": {
   "display_name": "Python 3.8.5 ('base')",
   "language": "python",
   "name": "python3"
  },
  "language_info": {
   "codemirror_mode": {
    "name": "ipython",
    "version": 3
   },
   "file_extension": ".py",
   "mimetype": "text/x-python",
   "name": "python",
   "nbconvert_exporter": "python",
   "pygments_lexer": "ipython3",
   "version": "3.8.5"
  },
  "orig_nbformat": 4
 },
 "nbformat": 4,
 "nbformat_minor": 2
}
